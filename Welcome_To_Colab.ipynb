{
  "cells": [
    {
      "cell_type": "markdown",
      "metadata": {
        "id": "view-in-github",
        "colab_type": "text"
      },
      "source": [
        "<a href=\"https://colab.research.google.com/github/samarnashaat/T3/blob/main/Welcome_To_Colab.ipynb\" target=\"_parent\"><img src=\"https://colab.research.google.com/assets/colab-badge.svg\" alt=\"Open In Colab\"/></a>"
      ]
    },
    {
      "cell_type": "code",
      "source": [
        "import numpy as np\n",
        "import random\n",
        "\n",
        "ages = [18, 21, 20, 19, 22, 23, 20, 21, 22, 19]\n",
        "\n",
        "mean_manual = sum(ages) / len(ages)\n",
        "print(\"Q1 - Manual Mean:\", mean_manual)\n",
        "\n",
        "mean_numpy = np.mean(ages)\n",
        "print(\"Q1 - NumPy Mean:\", mean_numpy)\n"
      ],
      "metadata": {
        "colab": {
          "base_uri": "https://localhost:8080/"
        },
        "id": "nqwz8m1eJmQD",
        "outputId": "df7d1061-2941-49bf-82b7-43d534258d93"
      },
      "execution_count": 3,
      "outputs": [
        {
          "output_type": "stream",
          "name": "stdout",
          "text": [
            "Q1 - Manual Mean: 20.5\n",
            "Q1 - NumPy Mean: 20.5\n"
          ]
        }
      ]
    },
    {
      "cell_type": "code",
      "source": [
        "data_random = [random.randint(10, 50) for _ in range(15)]\n",
        "print(\"\\nQ2 - Random Data:\", data_random)\n",
        "\n",
        "\n",
        "def my_sort(lst):\n",
        "    lst_copy = lst[:]\n",
        "    for i in range(len(lst_copy)):\n",
        "        for j in range(i+1, len(lst_copy)):\n",
        "            if lst_copy[j] < lst_copy[i]:\n",
        "                lst_copy[i], lst_copy[j] = lst_copy[j], lst_copy[i]\n",
        "    return lst_copy\n",
        "\n",
        "sorted_data = my_sort(data_random)\n",
        "n = len(sorted_data)\n",
        "if n % 2 == 1:\n",
        "    median_manual = sorted_data[n // 2]\n",
        "else:\n",
        "    median_manual = (sorted_data[n // 2 - 1] + sorted_data[n // 2]) / 2\n",
        "\n",
        "print(\"Q2 - Manual Median:\", median_manual)\n",
        "print(\"Q2 - NumPy Median:\", np.median(data_random))"
      ],
      "metadata": {
        "colab": {
          "base_uri": "https://localhost:8080/"
        },
        "id": "58km3OIqKgfE",
        "outputId": "93cfb595-7ae7-44ff-f1fc-b78a9713a425"
      },
      "execution_count": 4,
      "outputs": [
        {
          "output_type": "stream",
          "name": "stdout",
          "text": [
            "\n",
            "Q2 - Random Data: [37, 46, 39, 29, 29, 49, 44, 35, 25, 43, 32, 41, 19, 39, 19]\n",
            "Q2 - Manual Median: 37\n",
            "Q2 - NumPy Median: 37.0\n"
          ]
        }
      ]
    },
    {
      "cell_type": "code",
      "source": [
        "min_manual = min(data_random)\n",
        "max_manual = max(data_random)\n",
        "range_manual = max_manual - min_manual\n",
        "\n",
        "print(\"\\nQ3 - Manual Min:\", min_manual)\n",
        "print(\"Q3 - Manual Max:\", max_manual)\n",
        "print(\"Q3 - Manual Range:\", range_manual)\n",
        "\n",
        "print(\"Q3 - NumPy Min:\", np.min(data_random))\n",
        "print(\"Q3 - NumPy Max:\", np.max(data_random))\n",
        "print(\"Q3 - NumPy Range:\", np.ptp(data_random))"
      ],
      "metadata": {
        "colab": {
          "base_uri": "https://localhost:8080/"
        },
        "id": "1y4oGLltKsiJ",
        "outputId": "04464f53-9a2e-491a-ada4-89adf3b1a97d"
      },
      "execution_count": 5,
      "outputs": [
        {
          "output_type": "stream",
          "name": "stdout",
          "text": [
            "\n",
            "Q3 - Manual Min: 19\n",
            "Q3 - Manual Max: 49\n",
            "Q3 - Manual Range: 30\n",
            "Q3 - NumPy Min: 19\n",
            "Q3 - NumPy Max: 49\n",
            "Q3 - NumPy Range: 30\n"
          ]
        }
      ]
    },
    {
      "cell_type": "code",
      "source": [
        "data = [5, 7, 3, 7, 9, 10, 15, 7]\n",
        "\n",
        "mean_data = sum(data) / len(data)\n",
        "variance_manual = sum((x - mean_data) ** 2 for x in data) / len(data)\n",
        "std_dev_manual = variance_manual ** 0.5\n",
        "\n",
        "print(\"\\nQ4 - Manual Variance:\", variance_manual)\n",
        "print(\"Q4 - Manual Std Dev:\", std_dev_manual)\n",
        "\n",
        "print(\"Q4 - NumPy Variance:\", np.var(data))\n",
        "print(\"Q4 - NumPy Std Dev:\", np.std(data))"
      ],
      "metadata": {
        "colab": {
          "base_uri": "https://localhost:8080/"
        },
        "id": "IWcl6kOVK-4u",
        "outputId": "e854751f-501c-4455-eae8-1987226f446c"
      },
      "execution_count": 6,
      "outputs": [
        {
          "output_type": "stream",
          "name": "stdout",
          "text": [
            "\n",
            "Q4 - Manual Variance: 11.359375\n",
            "Q4 - Manual Std Dev: 3.370367190678191\n",
            "Q4 - NumPy Variance: 11.359375\n",
            "Q4 - NumPy Std Dev: 3.370367190678191\n"
          ]
        }
      ]
    },
    {
      "cell_type": "code",
      "source": [
        "Q1 = np.percentile(data, 25)\n",
        "Q2 = np.percentile(data, 50)\n",
        "Q3 = np.percentile(data, 75)\n",
        "IQR = Q3 - Q1\n",
        "\n",
        "print(\"\\nQ5 - Q1:\", Q1)\n",
        "print(\"Q5 - Q2 (Median):\", Q2)\n",
        "print(\"Q5 - Q3:\", Q3)\n",
        "print(\"Q5 - IQR:\", IQR)"
      ],
      "metadata": {
        "colab": {
          "base_uri": "https://localhost:8080/"
        },
        "id": "mEI7REneLEY1",
        "outputId": "9b1f1ae9-b64f-4439-be93-7316a01125a8"
      },
      "execution_count": 7,
      "outputs": [
        {
          "output_type": "stream",
          "name": "stdout",
          "text": [
            "\n",
            "Q5 - Q1: 6.5\n",
            "Q5 - Q2 (Median): 7.0\n",
            "Q5 - Q3: 9.25\n",
            "Q5 - IQR: 2.75\n"
          ]
        }
      ]
    },
    {
      "cell_type": "code",
      "source": [
        "def z_score(lst):\n",
        "    mean_val = sum(lst) / len(lst)\n",
        "    std_val = (sum((x - mean_val) ** 2 for x in lst) / len(lst)) ** 0.5\n",
        "    return [(x - mean_val) / std_val for x in lst]\n",
        "\n",
        "z_scores = z_score(data)\n",
        "print(\"\\nQ6 - Z-Scores:\", z_scores)"
      ],
      "metadata": {
        "colab": {
          "base_uri": "https://localhost:8080/"
        },
        "id": "twOBi-rYLEe4",
        "outputId": "e4373fbc-323f-4b90-9600-53f60c19581c"
      },
      "execution_count": 8,
      "outputs": [
        {
          "output_type": "stream",
          "name": "stdout",
          "text": [
            "\n",
            "Q6 - Z-Scores: [-0.8530227827851267, -0.2596156295432994, -1.446429936026954, -0.2596156295432994, 0.3337915236985278, 0.6304951003194414, 2.1140129834240096, -0.2596156295432994]\n"
          ]
        }
      ]
    },
    {
      "cell_type": "code",
      "source": [
        "data_ma = [random.randint(1, 100) for _ in range(20)]\n",
        "print(\"\\nQ7 - Data for Moving Average:\", data_ma)\n",
        "\n",
        "window = 3\n",
        "moving_avg_manual = [\n",
        "    sum(data_ma[i:i+window]) / window\n",
        "    for i in range(len(data_ma) - window + 1)\n",
        "]\n",
        "print(\"Q7 - Manual Moving Average:\", moving_avg_manual)\n",
        "\n",
        "\n",
        "moving_avg_numpy = np.convolve(data_ma, np.ones(window)/window, mode='valid')\n",
        "print(\"Q7 - NumPy Moving Average:\", moving_avg_numpy)"
      ],
      "metadata": {
        "colab": {
          "base_uri": "https://localhost:8080/"
        },
        "id": "UdMCsHt2LJFC",
        "outputId": "6a7604d4-77cc-48c8-baf5-96e9736dad7e"
      },
      "execution_count": 9,
      "outputs": [
        {
          "output_type": "stream",
          "name": "stdout",
          "text": [
            "\n",
            "Q7 - Data for Moving Average: [56, 96, 43, 42, 32, 23, 75, 29, 38, 41, 74, 97, 70, 5, 54, 71, 31, 89, 24, 25]\n",
            "Q7 - Manual Moving Average: [65.0, 60.333333333333336, 39.0, 32.333333333333336, 43.333333333333336, 42.333333333333336, 47.333333333333336, 36.0, 51.0, 70.66666666666667, 80.33333333333333, 57.333333333333336, 43.0, 43.333333333333336, 52.0, 63.666666666666664, 48.0, 46.0]\n",
            "Q7 - NumPy Moving Average: [65.         60.33333333 39.         32.33333333 43.33333333 42.33333333\n",
            " 47.33333333 36.         51.         70.66666667 80.33333333 57.33333333\n",
            " 43.         43.33333333 52.         63.66666667 48.         46.        ]\n"
          ]
        }
      ]
    },
    {
      "cell_type": "code",
      "source": [
        "data_outliers = list(range(1, 26)) + [300, 400]\n",
        "Q1_out = np.percentile(data_outliers, 25)\n",
        "Q3_out = np.percentile(data_outliers, 75)\n",
        "IQR_out = Q3_out - Q1_out\n",
        "\n",
        "lower_bound = Q1_out - 1.5 * IQR_out\n",
        "upper_bound = Q3_out + 1.5 * IQR_out\n",
        "\n",
        "outliers = [x for x in data_outliers if x < lower_bound or x > upper_bound]\n",
        "\n",
        "print(\"\\nQ8 - Data with Outliers:\", data_outliers)\n",
        "print(\"Q8 - Detected Outliers:\", outliers)"
      ],
      "metadata": {
        "colab": {
          "base_uri": "https://localhost:8080/"
        },
        "id": "vWRw-o5RLJSc",
        "outputId": "a7c49bad-bd38-4e85-ff04-35a915442f8a"
      },
      "execution_count": 10,
      "outputs": [
        {
          "output_type": "stream",
          "name": "stdout",
          "text": [
            "\n",
            "Q8 - Data with Outliers: [1, 2, 3, 4, 5, 6, 7, 8, 9, 10, 11, 12, 13, 14, 15, 16, 17, 18, 19, 20, 21, 22, 23, 24, 25, 300, 400]\n",
            "Q8 - Detected Outliers: [300, 400]\n"
          ]
        }
      ]
    }
  ],
  "metadata": {
    "colab": {
      "name": "Welcome To Colab",
      "toc_visible": true,
      "provenance": [],
      "include_colab_link": true
    },
    "kernelspec": {
      "display_name": "Python 3",
      "name": "python3"
    }
  },
  "nbformat": 4,
  "nbformat_minor": 0
}